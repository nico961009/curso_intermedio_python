{
 "cells": [
  {
   "cell_type": "code",
   "execution_count": 12,
   "metadata": {},
   "outputs": [
    {
     "name": "stdout",
     "output_type": "stream",
     "text": [
      "['L', 'I', 'L', 'B', 'I', 'R', 'I', 'T', 'O', 'O']\n"
     ]
    }
   ],
   "source": [
    "palabra= list(\"LILBIRITOO\")\n",
    "cadena= list(len(palabra)*\"_\")\n",
    "letra= \"I\"\n",
    "print(palabra)"
   ]
  },
  {
   "cell_type": "code",
   "execution_count": 22,
   "metadata": {},
   "outputs": [],
   "source": [
    "def comparar(palabra, letra, cadena):\n",
    "    for indice, valor in enumerate (palabra):\n",
    "        contador = 0\n",
    "        while indice != len(palabra):\n",
    "            if valor == letra:\n",
    "                cadena[indice] = letra\n",
    "                cadena_t= \" \".join(cadena)\n",
    "                palabra = cadena_t\n",
    "                return(cadena_t)"
   ]
  },
  {
   "cell_type": "code",
   "execution_count": 24,
   "metadata": {},
   "outputs": [],
   "source": [
    "print(comparar(palabra,letra,cadena))"
   ]
  },
  {
   "cell_type": "code",
   "execution_count": 15,
   "metadata": {},
   "outputs": [
    {
     "name": "stdout",
     "output_type": "stream",
     "text": [
      "['L', 'I', 'B', 'R', 'O']\n"
     ]
    }
   ],
   "source": [
    "palabra_random= list(\"LIBRO\")\n",
    "print(palabra_random)"
   ]
  },
  {
   "cell_type": "code",
   "execution_count": 16,
   "metadata": {},
   "outputs": [
    {
     "name": "stdout",
     "output_type": "stream",
     "text": [
      "['_', '_', '_', '_', '_']\n"
     ]
    }
   ],
   "source": [
    "lineas = list(len(palabra_random)*\"_\")\n",
    "print(lineas)"
   ]
  },
  {
   "cell_type": "code",
   "execution_count": 21,
   "metadata": {},
   "outputs": [
    {
     "name": "stdout",
     "output_type": "stream",
     "text": [
      "<class 'int'> <class 'str'> <class 'int'>\n",
      "<class 'int'> <class 'str'> <class 'int'>\n",
      "<class 'int'> <class 'str'> <class 'int'>\n",
      "<class 'int'> <class 'str'> <class 'int'>\n",
      "<class 'int'> <class 'str'> <class 'int'>\n",
      "<class 'int'> <class 'str'> <class 'int'>\n",
      "<class 'int'> <class 'str'> <class 'int'>\n",
      "<class 'int'> <class 'str'> <class 'int'>\n",
      "<class 'int'> <class 'str'> <class 'int'>\n",
      "<class 'int'> <class 'str'> <class 'int'>\n"
     ]
    }
   ],
   "source": [
    "for indice, valor in enumerate (palabra):\n",
    "    print(type(indice), type(valor), type(len(palabra)))"
   ]
  },
  {
   "cell_type": "code",
   "execution_count": null,
   "metadata": {},
   "outputs": [],
   "source": []
  }
 ],
 "metadata": {
  "interpreter": {
   "hash": "916dbcbb3f70747c44a77c7bcd40155683ae19c65e1c03b4aa3499c5328201f1"
  },
  "kernelspec": {
   "display_name": "Python 3.8.10 64-bit",
   "name": "python3"
  },
  "language_info": {
   "codemirror_mode": {
    "name": "ipython",
    "version": 3
   },
   "file_extension": ".py",
   "mimetype": "text/x-python",
   "name": "python",
   "nbconvert_exporter": "python",
   "pygments_lexer": "ipython3",
   "version": "3.8.10"
  },
  "orig_nbformat": 4
 },
 "nbformat": 4,
 "nbformat_minor": 2
}
